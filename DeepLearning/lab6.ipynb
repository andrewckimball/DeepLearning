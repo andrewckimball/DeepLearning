{
  "cells": [
    {
      "cell_type": "markdown",
      "metadata": {
        "id": "6FRfERnaYSEz"
      },
      "source": [
        "<a \n",
        "href=\"https://colab.research.google.com/github/wingated/cs474_labs_f2019/blob/master/DL_Lab6.ipynb\"\n",
        "  target=\"_parent\">\n",
        "  <img\n",
        "    src=\"https://colab.research.google.com/assets/colab-badge.svg\"\n",
        "    alt=\"Open In Colab\"/>\n",
        "</a>"
      ]
    },
    {
      "cell_type": "markdown",
      "metadata": {
        "id": "cksgAH12XRjV"
      },
      "source": [
        "# Lab 6: Sequence-to-sequence models\n",
        "\n",
        "### Description:\n",
        "For this lab, you will code up the [char-rnn model of Karpathy](http://karpathy.github.io/2015/05/21/rnn-effectiveness/). This is a recurrent neural network that is trained probabilistically on sequences of characters, and that can then be used to sample new sequences that are like the original.\n",
        "\n",
        "This lab will help you develop several new skills, as well as understand some best practices needed for building large models. In addition, we'll be able to create networks that generate neat text!\n",
        "\n",
        "### Deliverable:\n",
        "- Fill in the code for the RNN (using PyTorch's built-in GRU).\n",
        "- Fill in the training loop\n",
        "- Fill in the evaluation loop. In this loop, rather than using a validation set, you will sample text from the RNN.\n",
        "- Implement your own GRU cell.\n",
        "- Train your RNN on a new domain of text (Star Wars, political speeches, etc. - have fun!)\n",
        "\n",
        "### Grading Standards:\n",
        "- 20% Implementation the RNN\n",
        "- 20% Implementation training loop\n",
        "- 20% Implementation of evaluation loop\n",
        "- 20% Implementation of your own GRU cell\n",
        "- 20% Training of your RNN on a domain of your choice\n",
        "\n",
        "### Tips:\n",
        "- Read through all the helper functions, run them, and make sure you understand what they are doing\n",
        "- At each stage, ask yourself: What should the dimensions of this tensor be? Should its data type be float or int? (int is called `long` in PyTorch)\n",
        "- Don't apply a softmax inside the RNN if you are using an nn.CrossEntropyLoss (this module already applies a softmax to its input).\n",
        "\n",
        "### Example Output:\n",
        "An example of my final samples are shown below (more detail in the\n",
        "final section of this writeup), after 150 passes through the data.\n",
        "Please generate about 15 samples for each dataset.\n",
        "\n",
        "<code>\n",
        "And ifte thin forgision forward thene over up to a fear not your\n",
        "And freitions, which is great God. Behold these are the loss sub\n",
        "And ache with the Lord hath bloes, which was done to the holy Gr\n",
        "And appeicis arm vinimonahites strong in name, to doth piseling \n",
        "And miniquithers these words, he commanded order not; neither sa\n",
        "And min for many would happine even to the earth, to said unto m\n",
        "And mie first be traditions? Behold, you, because it was a sound\n",
        "And from tike ended the Lamanites had administered, and I say bi\n",
        "</code>\n"
      ]
    },
    {
      "cell_type": "markdown",
      "metadata": {
        "id": "c2i_QpSsWG4c"
      },
      "source": [
        "---\n",
        "\n",
        "## Part 0: Readings, data loading, and high level training\n",
        "\n",
        "---\n",
        "\n",
        "There is a tutorial here that will help build out scaffolding code, and get an understanding of using sequences in pytorch.\n",
        "\n",
        "* Read the following\n",
        "\n",
        "> * [Pytorch sequence-to-sequence tutorial](https://pytorch.org/tutorials/intermediate/seq2seq_translation_tutorial.html) (Take note that you will not be implementing the encoder part of this tutorial.)\n",
        "* [Understanding LSTM Networks](http://colah.github.io/posts/2015-08-Understanding-LSTMs/)\n",
        "\n",
        "\n",
        "\n",
        "\n"
      ]
    },
    {
      "cell_type": "code",
      "execution_count": null,
      "metadata": {
        "id": "l7bdZWxvJrsx"
      },
      "outputs": [],
      "source": [
        "! wget -O ./text_files.tar.gz 'https://piazza.com/redirect/s3?bucket=uploads&prefix=attach%2Fjlifkda6h0x5bk%2Fhzosotq4zil49m%2Fjn13x09arfeb%2Ftext_files.tar.gz' \n",
        "! tar -xzf text_files.tar.gz\n",
        "! pip install unidecode\n",
        "! pip install torch\n",
        "\n",
        "import unidecode\n",
        "import string\n",
        "import random\n",
        "import re\n",
        " \n",
        "import pdb\n",
        " \n",
        "all_characters = string.printable\n",
        "n_characters = len(all_characters)\n",
        "file = unidecode.unidecode(open('./text_files/lotr.txt').read())\n",
        "file_len = len(file)\n",
        "print('file_len =', file_len)"
      ]
    },
    {
      "cell_type": "code",
      "execution_count": 2,
      "metadata": {
        "colab": {
          "base_uri": "https://localhost:8080/"
        },
        "id": "TxBeKeNjJ0NQ",
        "outputId": "e9987bc9-c22a-40c2-ffed-9aaec1fd27f5"
      },
      "outputs": [
        {
          "name": "stdout",
          "output_type": "stream",
          "text": [
            "se is not clear to me, and I fear to \n",
            "say too much.' \n",
            "\n",
            "'I am deeply grateful,' said Frodo; 'but I wish you would tell me \n",
            "plainly what the Black Riders are. If I take your advice I may not see \n",
            "Gandalf\n"
          ]
        }
      ],
      "source": [
        "chunk_len = 200\n",
        " \n",
        "def random_chunk():\n",
        "  start_index = random.randint(0, file_len - chunk_len)\n",
        "  end_index = start_index + chunk_len + 1\n",
        "  return file[start_index:end_index]\n",
        "  \n",
        "print(random_chunk())"
      ]
    },
    {
      "cell_type": "code",
      "execution_count": null,
      "metadata": {
        "id": "On0_WitWJ99e"
      },
      "outputs": [],
      "source": [
        "import torch\n",
        "# Turn string into list of longs\n",
        "def char_tensor(string):\n",
        "  tensor = torch.zeros(len(string)).long()\n",
        "  for c in range(len(string)):\n",
        "      tensor[c] = all_characters.index(string[c])\n",
        "  return tensor\n",
        "\n",
        "print(char_tensor('abcDEF'))"
      ]
    },
    {
      "cell_type": "markdown",
      "metadata": {
        "id": "CYJPTLcaYmfI"
      },
      "source": [
        "---\n",
        "\n",
        "## Part 4: Creating your own GRU cell \n",
        "\n",
        "**(Come back to this later - its defined here so that the GRU will be defined before it is used)**\n",
        "\n",
        "---\n",
        "\n",
        "The cell that you used in Part 1 was a pre-defined Pytorch layer. Now, write your own GRU class using the same parameters as the built-in Pytorch class does.\n",
        "\n",
        "Please try not to look at the GRU cell definition. The answer is right there in the code, and in theory, you could just cut-and-paste it. This bit is on your honor!\n",
        "\n",
        "**TODO:**\n",
        "* Create a custom GRU cell\n",
        "\n",
        "**DONE:**\n",
        "\n"
      ]
    },
    {
      "cell_type": "code",
      "execution_count": 35,
      "metadata": {
        "id": "aavAv50ZKQ-F"
      },
      "outputs": [],
      "source": [
        "import torch\n",
        "import torch.nn as nn\n",
        "import torch.nn.functional as F\n",
        "\n",
        "\n",
        "class GRU(nn.Module):\n",
        "  def __init__(self, input_size, hidden_size, num_layers):\n",
        "    super(GRU, self).__init__()\n",
        "    self.num_layers = num_layers\n",
        "    self.hidden_size = hidden_size\n",
        "    self.sigmoid = nn.Sigmoid()\n",
        "    self.tanh = nn.Tanh()\n",
        "\n",
        "    # Using nn.ModueList to store n layers of the 6 linear weight matrices\n",
        "    self.w_ir = nn.ModuleList([nn.Linear(input_size, hidden_size) for i in range(num_layers)])\n",
        "    self.w_hr = nn.ModuleList([nn.Linear(input_size, hidden_size) for i in range(num_layers)])\n",
        "    self.w_iz = nn.ModuleList([nn.Linear(input_size, hidden_size) for i in range(num_layers)])\n",
        "    self.w_hz = nn.ModuleList([nn.Linear(input_size, hidden_size) for i in range(num_layers)])\n",
        "    self.w_in = nn.ModuleList([nn.Linear(input_size, hidden_size) for i in range(num_layers)])\n",
        "    self.w_hn = nn.ModuleList([nn.Linear(input_size, hidden_size) for i in range(num_layers)])\n",
        "    \n",
        "  def forward(self, inputs, hidden):\n",
        "    # Initializing hiddens to store the output of each layer\n",
        "    hiddens = torch.empty(size=(self.num_layers, 1, self.hidden_size), dtype=torch.float, device = 'cuda') \n",
        "    for i in range(self.num_layers):\n",
        "      r_t = self.sigmoid(self.w_ir[i](inputs) + self.w_hr[i](hidden[i]))\n",
        "      z_t = self.sigmoid(self.w_iz[i](inputs) + self.w_hz[i](hidden[i]))\n",
        "      n_t = self.tanh(self.w_in[i](inputs) + torch.mul(r_t, self.w_hn[i](hidden[i])))\n",
        "      h_t = torch.mul((1 - z_t), n_t) + torch.mul(z_t, hidden[i])\n",
        "      inputs = hiddens[i] = h_t\n",
        "\n",
        "    return h_t, hiddens"
      ]
    },
    {
      "cell_type": "markdown",
      "metadata": {
        "id": "qtXdX-B_WiAY"
      },
      "source": [
        "---\n",
        "\n",
        "##  Part 1: Building a sequence to sequence model\n",
        "\n",
        "---\n",
        "\n",
        "Great! We have the data in a useable form. We can switch out which text file we are reading from, and trying to simulate.\n",
        "\n",
        "We now want to build out an RNN model, in this section, we will use all built in Pytorch pieces when building our RNN class.\n",
        "\n",
        "\n",
        "**TODO:**\n",
        "* Create an RNN class that extends from nn.Module.\n",
        "\n",
        "**DONE:**\n",
        "\n"
      ]
    },
    {
      "cell_type": "code",
      "execution_count": 36,
      "metadata": {
        "id": "d6tNdEnzWj5F"
      },
      "outputs": [],
      "source": [
        "class RNN(nn.Module):\n",
        "  def __init__(self, input_size, hidden_size, output_size, n_layers=1):\n",
        "    super(RNN, self).__init__()\n",
        "    self.input_size = input_size\n",
        "    self.hidden_size = hidden_size\n",
        "    self.output_size = output_size\n",
        "    self.n_layers = n_layers\n",
        "    \n",
        "    # self.gru = nn.GRU(input_size, hidden_size, n_layers) # nn module\n",
        "    self.gru = GRU(hidden_size, hidden_size, n_layers) # custom module: expects input as [1,1,hidden_size] rather than [1,1,n_characters] due to embedding and GRU structure\n",
        "\n",
        "    self.linear_layer = nn.Linear(hidden_size, output_size)\n",
        "    # self.embedding = nn.Embedding(input_size, output_size)  # nn module\n",
        "    self.embedding = nn.Embedding(input_size, hidden_size) # custom module: making embedding [1,1,hidden_size] rather than [1,1,n_characters]\n",
        "\n",
        "  def forward(self, input_char, hidden):\n",
        "    out_decoded = self.embedding(input_char).view(1,1,-1)\n",
        "    out_decoded, hidden = self.gru(out_decoded, hidden)\n",
        "    out_decoded = self.linear_layer(out_decoded[-1])\n",
        "    return out_decoded, hidden\n",
        "\n",
        "  def init_hidden(self):\n",
        "    return torch.zeros(self.n_layers, 1, self.hidden_size)"
      ]
    },
    {
      "cell_type": "code",
      "execution_count": 6,
      "metadata": {
        "id": "hrhXghEPKD-5"
      },
      "outputs": [],
      "source": [
        "def random_training_set():    \n",
        "  chunk = random_chunk()\n",
        "  inp = char_tensor(chunk[:-1])\n",
        "  target = char_tensor(chunk[1:])\n",
        "  return inp, target"
      ]
    },
    {
      "cell_type": "markdown",
      "metadata": {
        "id": "ZpiGObbBX0Mr"
      },
      "source": [
        "---\n",
        "\n",
        "## Part 2: Sample text and Training information\n",
        "\n",
        "---\n",
        "\n",
        "We now want to be able to train our network, and sample text after training.\n",
        "\n",
        "This function outlines how training a sequence style network goes. \n",
        "\n",
        "**TODO:**\n",
        "* Fill in the pieces.\n",
        "\n",
        "**DONE:**\n",
        "\n",
        "\n"
      ]
    },
    {
      "cell_type": "code",
      "execution_count": 7,
      "metadata": {
        "id": "2ALC3Pf8Kbsi"
      },
      "outputs": [],
      "source": [
        "def longToTensor(input, classes=100):\n",
        "    input_char = input.long()\n",
        "    input_char = F.one_hot(input_char, num_classes=classes)\n",
        "    input = torch.unsqueeze(input_char, 0)\n",
        "    input = torch.unsqueeze(input, 0)  \n",
        "    input = input.float()\n",
        "    return input\n",
        "\n",
        "def train(inp, target):\n",
        "  decoder_optimizer.zero_grad()\n",
        "  hidden_state = decoder.init_hidden()\n",
        "  hidden_state = hidden_state.cuda(non_blocking=True)\n",
        "  loss = 0\n",
        "\n",
        "  for x, y_truth in zip(inp, target):\n",
        "    x, y_truth = x.cuda(non_blocking=True), y_truth.cuda(non_blocking=True)\n",
        "    \n",
        "    out_decoded, hidden_state = decoder(x, hidden_state) \n",
        "    y_truth = longToTensor(y_truth)[-1]\n",
        "    loss += criterion(out_decoded, y_truth)\n",
        "\n",
        "  loss.backward()\n",
        "  decoder_optimizer.step()\n",
        "  return loss.item()"
      ]
    },
    {
      "cell_type": "markdown",
      "metadata": {
        "id": "EN06NUu3YRlz"
      },
      "source": [
        "---\n",
        "\n",
        "## Part 3: Sample text and Training information\n",
        "\n",
        "---\n",
        "\n",
        "You can at this time, if you choose, also write out your train loop boilerplate that samples random sequences and trains your RNN. This will be helpful to have working before writing your own GRU class.\n",
        "\n",
        "If you are finished training, or during training, and you want to sample from the network you may consider using the following function. If your RNN model is instantiated as `decoder`then this will probabilistically sample a sequence of length `predict_len`\n",
        "\n",
        "**TODO:**\n",
        "* Fill out the evaluate function to generate text frome a primed string\n",
        "\n",
        "**DONE:**\n",
        "\n"
      ]
    },
    {
      "cell_type": "code",
      "execution_count": 8,
      "metadata": {
        "id": "B-bp-OZ1KjNh"
      },
      "outputs": [],
      "source": [
        "def sample_outputs(output, temperature):\n",
        "    return torch.multinomial(torch.exp(output / temperature), 1)\n",
        "\n",
        "def evaluate(prime_str='A', predict_len=100, temperature=0.8):\n",
        "  hidden_state = decoder.init_hidden()\n",
        "  hidden_state = hidden_state.cuda(non_blocking=True)\n",
        "\n",
        "  if type(prime_str) == str:\n",
        "    prime_str = char_tensor(prime_str)\n",
        "    prime_str = prime_str.cuda(non_blocking=True)\n",
        "\n",
        "  output_sequence = []\n",
        "  input_string = prime_str\n",
        "\n",
        "\n",
        "  for x in input_string:\n",
        "    output_sequence.append(x.item())\n",
        "    out_decoded, hidden_state = decoder(x, hidden_state)\n",
        "  output = sample_outputs(out_decoded, temperature)\n",
        "\n",
        "  for _ in range(predict_len):\n",
        "    input_tensor = output\n",
        "    output_sequence.append(input_tensor.item())\n",
        "    out_decoded, hidden_state = decoder(input_tensor, hidden_state) \n",
        "    output = sample_outputs(out_decoded, temperature)\n",
        "\n",
        "  output_string = ''\n",
        "  for idx in output_sequence:\n",
        "    char = all_characters[idx]\n",
        "    output_string += char\n",
        "   \n",
        "  return output_string"
      ]
    },
    {
      "cell_type": "markdown",
      "metadata": {
        "id": "Du4AGA8PcFEW"
      },
      "source": [
        "---\n",
        "\n",
        "## Part 4: (Create a GRU cell, requirements above)\n",
        "\n",
        "---\n"
      ]
    },
    {
      "cell_type": "markdown",
      "metadata": {
        "id": "GFS2bpHSZEU6"
      },
      "source": [
        "\n",
        "---\n",
        "\n",
        "## Part 5: Run it and generate some text!\n",
        "\n",
        "---\n",
        "\n",
        "\n",
        "**TODO:** \n",
        "* Create some cool output\n",
        "\n",
        "**DONE:**\n",
        "\n",
        "\n",
        "\n",
        "\n",
        "Assuming everything has gone well, you should be able to run the main function in the scaffold code, using either your custom GRU cell or the built in layer, and see output something like this. I trained on the “lotr.txt” dataset, using chunk_length=200, hidden_size=100 for 2000 epochs. These are the results, along with the prime string:\n",
        "\n",
        "---\n",
        "\n",
        " G:\n",
        " \n",
        " Gandalf was decrond. \n",
        "'All have lord you. Forward the road at least walk this is stuff, and \n",
        "went to the long grey housel-winding and kindled side was a sleep pleasuring, I do long \n",
        "row hrough. In  \n",
        "\n",
        " lo:\n",
        " \n",
        " lost death it. \n",
        "'The last of the gatherings and take you,' said Aragorn, shining out of the Gate. \n",
        "'Yes, as you there were remembaused to seen their pass, when? What \n",
        "said here, such seven an the sear \n",
        "\n",
        " lo:\n",
        " \n",
        " low, and frod to keepn \n",
        "Came of their most. But here priced doubtless to an Sam up is \n",
        "masters; he left hor as they are looked. And he could now the long to stout in the right fro horseless of \n",
        "the like \n",
        "\n",
        " I:\n",
        " \n",
        " I had been the \n",
        "in his eyes with the perushed to lest, if then only the ring and the legended \n",
        "of the less of the long they which as the \n",
        "enders of Orcovered and smood, and the p \n",
        "\n",
        " I:\n",
        " \n",
        " I they were not the lord of the hoomes. \n",
        "Home already well from the Elves. And he sat strength, and we \n",
        "housed out of the good of the days to the mountains from his perith. \n",
        "\n",
        "'Yess! Where though as if  \n",
        "\n",
        " Th:\n",
        " \n",
        " There yarden \n",
        "you would guard the hoor might. Far and then may was \n",
        "croties, too began to see the drumbred many line \n",
        "and was then hoard walk and they heart, and the chair of the \n",
        "Ents of way, might was \n",
        "\n",
        " G:\n",
        " \n",
        " Gandalf \n",
        "been lat of less the round of the stump; both and seemed to the trees and perished they \n",
        "lay are speered the less; and the wind the steep and have to she \n",
        "precious. There was in the oonly went \n",
        "\n",
        " wh:\n",
        " \n",
        " which went out of the door. \n",
        "Hull the King and of the The days of his brodo \n",
        "stumbler of the windard was a thing there, then it been shining langing \n",
        "to him poor land. They hands; though they seemed ou \n",
        "\n",
        " ra:\n",
        " \n",
        " rather,' have all the least deather \n",
        "down of the truven beginning to the house of sunk. \n",
        "'Nark shorts of the Eyes of the Gate your great nothing as Eret. \n",
        "'I wander trust horn, and there were not, it  \n",
        "\n",
        " I:\n",
        " \n",
        " I can have no mind \n",
        "together! Where don't may had one may little blung \n",
        "terrible to tales. And turn and Gandalf shall be not to as only the Cattring \n",
        "not stopped great the out them forms. On they she lo \n",
        "\n",
        "---\n"
      ]
    },
    {
      "cell_type": "code",
      "execution_count": 13,
      "metadata": {
        "id": "-nXFeCmdKodw"
      },
      "outputs": [],
      "source": [
        "import time\n",
        "n_epochs = 5000\n",
        "print_every = 200\n",
        "plot_every = 10\n",
        "hidden_size = 200\n",
        "n_layers = 3\n",
        "lr = 0.001\n",
        " \n",
        "decoder = RNN(n_characters, hidden_size, n_characters, n_layers)\n",
        "decoder = decoder.cuda()\n",
        "\n",
        "decoder_optimizer = torch.optim.Adam(decoder.parameters(), lr=lr)\n",
        "criterion = nn.CrossEntropyLoss()\n",
        " \n",
        "start = time.time()\n",
        "all_losses = []\n",
        "loss_avg = 0"
      ]
    },
    {
      "cell_type": "code",
      "execution_count": 14,
      "metadata": {
        "colab": {
          "base_uri": "https://localhost:8080/"
        },
        "id": "xKfozqw-6eqb",
        "outputId": "86152017-cb10-4118-de28-48178228a23c"
      },
      "outputs": [
        {
          "name": "stdout",
          "output_type": "stream",
          "text": [
            "[72.31673288345337 (200 4%) 472.1450]\n",
            "Whe horh os ise I Bo\n",
            "we Ann wowar Nore fars the yelt ale hard tin \n",
            "wit fimd and erod \n",
            "the there ard th \n",
            "\n",
            "[146.94324707984924 (400 8%) 401.2514]\n",
            "Whan and wis and to \n",
            "here sountin the raigher those to gwast the crey ip \n",
            "pepstwerle farning puver \n",
            "so \n",
            "\n",
            "[215.79877257347107 (600 12%) 377.6049]\n",
            "Where and in though ain the Carbop there vorased whet to -netherght has stent and \n",
            "of this to han pead \n",
            "\n",
            "[283.9594340324402 (800 16%) 372.9977]\n",
            "Where \n",
            "soun of Mere the \n",
            "the his to but his that were he neather, thove to have that ligh the ancoure- \n",
            "\n",
            "[353.0054786205292 (1000 20%) 338.7914]\n",
            "Whe four me and came of the \n",
            "parn at non the \n",
            "of momed \n",
            "was, \n",
            "evill reant of the wall is the Fring the \n",
            "\n",
            "[420.35806345939636 (1200 24%) 312.0645]\n",
            "Whe hat \n",
            "what I came compet was the \n",
            "\n",
            "can the open sied hope that it into the most the doonse the pame \n",
            "\n",
            "[491.232280254364 (1400 28%) 305.9774]\n",
            "Whey with things was bon will for he waters, and could be \n",
            "the was durning a \n",
            "the limust the but in he \n",
            "\n",
            "[558.7829964160919 (1600 32%) 292.5438]\n",
            "Why four an and great horring rades \n",
            "stright of the what \n",
            "over the \n",
            "mark to down and where see down th \n",
            "\n",
            "[625.3792898654938 (1800 36%) 305.6366]\n",
            "Whink, they ferry weard was a befood, and \n",
            "they as it seemed trees that they had can which dark in the \n",
            "\n",
            "[691.9343769550323 (2000 40%) 285.2206]\n",
            "What terrier to need in the Enemy south, eyes. And \n",
            "\n",
            "'I have east faxing it shall I halbered tall wond \n",
            "\n",
            "[759.2237145900726 (2200 44%) 357.4269]\n",
            "Where is powlier ching that said to hills of looked. There were and will of is some of the Emone. \n",
            "\n",
            "Bu \n",
            "\n",
            "[827.6035025119781 (2400 48%) 246.0356]\n",
            "Where a wind would look towards the \n",
            "by the pierty and then Gandalf and lands it they raved havenethin \n",
            "\n",
            "[896.4588537216187 (2600 52%) 337.4178]\n",
            "Whem to put on as the due \n",
            "barror in the great of for the Chave the love \n",
            "of a spring. \n",
            "\n",
            "To my thouse, \n",
            "\n",
            "[964.8452401161194 (2800 56%) 289.0666]\n",
            "Wh are flows, fees and longer be, to reded the Still the \n",
            "stars could be of Frodo. 'When I even and it \n",
            "\n",
            "[1033.3969705104828 (3000 60%) 316.7466]\n",
            "When the Watering was all they should no bladdle of the far the Hills \n",
            "there is hiemhands. It will be  \n",
            "\n",
            "[1101.5289511680603 (3200 64%) 309.9295]\n",
            "White will trees, the stone, and earth to to say and the write horse of Boromir readant \n",
            "flightly afte \n",
            "\n",
            "[1169.57546043396 (3400 68%) 275.8704]\n",
            "When he had rose the Count nor of the captain. Nor will be the countred in the sight from the swords c \n",
            "\n",
            "[1237.195861339569 (3600 72%) 259.5397]\n",
            "Whispened was stones of the \n",
            "thap and resent of \n",
            "some to suddenly went in the great held at a fempt be \n",
            "\n",
            "[1304.5795946121216 (3800 76%) 345.1214]\n",
            "Where? Hand the in a stouth the wung to have were back to far \n",
            "was a sword: a hundred \n",
            "intures. But th \n",
            "\n",
            "[1372.4474461078644 (4000 80%) 255.6415]\n",
            "Where slope at night into the Sun to a sung, and point west and \n",
            "surprise of the silence and \n",
            "breath w \n",
            "\n",
            "[1447.1607773303986 (4200 84%) 252.0477]\n",
            "Whistant to him the road. 'I \n",
            "have you breaky, it with hole by his journey, but not tall now work batt \n",
            "\n",
            "[1514.7242224216461 (4400 88%) 253.8941]\n",
            "When their own and was among the \n",
            "groubless or part ontory the pace. But in had one, as if a \n",
            "prived t \n",
            "\n",
            "[1582.34064078331 (4600 92%) 282.1757]\n",
            "Where he would can the previl \n",
            "with all set. It had been that he had bird the North, and \n",
            "about that w \n",
            "\n",
            "[1650.4791221618652 (4800 96%) 337.2511]\n",
            "Whe riders like grow.' \n",
            "\n",
            "\n",
            "\n",
            "\n",
            "\n",
            "\n",
            "\n",
            "'I do side Merry!' he said. 'They cannot rolled to the darkness. \n",
            "\n",
            "Thes \n",
            "\n",
            "[1718.7091476917267 (5000 100%) 245.2022]\n",
            "Whe was a face of the Enemy and burned, and even of the \n",
            "world from the words of the fire in all his h \n",
            "\n"
          ]
        }
      ],
      "source": [
        "for epoch in range(1, n_epochs + 1):\n",
        "  loss_ = train(*random_training_set())\n",
        "  loss_avg += loss_\n",
        "\n",
        "  if epoch % print_every == 0:\n",
        "      print('[%s (%d %d%%) %.4f]' % (time.time() - start, epoch, epoch / n_epochs * 100, loss_))\n",
        "      print(evaluate('Wh', 100), '\\n')\n",
        "\n",
        "  if epoch % plot_every == 0:\n",
        "      all_losses.append(loss_avg / plot_every)\n",
        "      loss_avg = 0"
      ]
    },
    {
      "cell_type": "code",
      "execution_count": 33,
      "metadata": {
        "colab": {
          "base_uri": "https://localhost:8080/",
          "height": 313
        },
        "id": "OjolY_eXRTOC",
        "outputId": "b7b5a2d9-98b9-4712-eb68-3071a5c24872"
      },
      "outputs": [
        {
          "data": {
            "text/plain": [
              "Text(0, 0.5, 'Loss')"
            ]
          },
          "execution_count": 33,
          "metadata": {},
          "output_type": "execute_result"
        },
        {
          "data": {
            "image/png": "[encoded data removed]",
            "text/plain": [
              "<Figure size 432x288 with 1 Axes>"
            ]
          },
          "metadata": {
            "needs_background": "light"
          },
          "output_type": "display_data"
        }
      ],
      "source": [
        "import matplotlib.pyplot as plt\n",
        "\n",
        "plt.figure()\n",
        "plt.plot(all_losses)\n",
        "\n",
        "plt.title(\"Part 5 Plot\")\n",
        "plt.xlabel(\"Epochs\")\n",
        "plt.ylabel(\"Loss\")"
      ]
    },
    {
      "cell_type": "code",
      "execution_count": 23,
      "metadata": {
        "colab": {
          "base_uri": "https://localhost:8080/"
        },
        "id": "Ee0so6aKJ5L8",
        "outputId": "358a182a-f240-40f1-ba87-03e5d9af0348"
      },
      "outputs": [
        {
          "name": "stdout",
          "output_type": "stream",
          "text": [
            " I \n",
            " I have I can't your worning! There we reckon more. Then plain \n",
            "loud what had way. Hills do near it a shadow or line \n",
            "as must be halls mean. But there will le seemed \n",
            "a ring, falling crossed, and they we \n",
            "\n",
            " I \n",
            " I fire in not country in the open to Elf. \n",
            "\n",
            "'More-had do not can with lend.' \n",
            "\n",
            "'Boromir! Horn filled, Sam, so that is trees! I would's the bowest line of the \n",
            "each in the air. The long cane room hands a \n",
            "\n",
            " wh\n",
            " whipped should had far \n",
            "eyes of Gondor thing; and come we came tried to see the \n",
            "horn to hear I cries. He set dared sound of the fire clear. But me what has \n",
            "cluugodness no well, I which the horright we \n",
            "\n",
            " I \n",
            " I can \n",
            "trin-way fallen in, since he little. In the pellow as it side of a gate or and desire, out of the horn-since grew wind himself and made up not he \n",
            "reatured up in the prink of this man. But you \n",
            "n \n",
            "\n",
            " Th\n",
            " The Ents now good with a little \n",
            "he came of grey more it at no command. But who singing his feet hand. I could not see, you not such in the \n",
            "\n",
            "\n",
            "\n",
            "\n",
            "\n",
            "\n",
            "\n",
            "\n",
            "horses of finslount bows to see, it in the land stone \n",
            "\n",
            " ca\n",
            " call and looking. Yet that is a great howly of my endlands were \n",
            "from you liven it. What terrident it was that would not know.' \n",
            "\n",
            "'Bet the many Isildur's was air there mouth and \n",
            "done was swarrie. Sauro \n",
            "\n",
            " G\n",
            " Gandalf down, and the last \n",
            "lord in the head. But now in long he have gate to \n",
            "the force whom the land in their end. No doubt him; and their elder \n",
            "but understood by sickle-hill. Then we have \n",
            "seen abo \n",
            "\n",
            " I \n",
            " I have most was the his \n",
            "time to charf. They head friend being them as it reet Hunning I shoutain.' \n",
            "\n",
            "Frodo said, for it was out of squin or doubt him. Hasted \n",
            "to him, the soundmed sonning and had came  \n",
            "\n",
            " Th\n",
            " Then the place to do not ever \n",
            "tale is did not con, in the world a small remomed, and the in his fields to Ere \n",
            "stranges of the dark norths in his great feast, and the light he had end for some more. \n",
            "\n",
            " \n",
            "\n",
            " Th\n",
            " Thas bears of south and desire. Do you may be a \n",
            "call your find. And the Blage were cries with his feet from \n",
            "him. We should s-each had may for air, and I can from now. But it in the world she domoned t \n",
            "\n"
          ]
        }
      ],
      "source": [
        "import random\n",
        "for i in range(10):\n",
        "  start_strings = [\" Th\", \" wh\", \" he\", \" I \", \" ca\", \" G\", \" lo\", \" ra\"]\n",
        "  start = random.randint(0,len(start_strings)-1)\n",
        "  print(start_strings[start])\n",
        "  print(evaluate(start_strings[start], 200), '\\n')"
      ]
    },
    {
      "cell_type": "markdown",
      "metadata": {
        "id": "YJhgDc2IauPE"
      },
      "source": [
        "---\n",
        "\n",
        "## Part 6: Generate output on a different dataset\n",
        "\n",
        "---\n",
        "\n",
        "**TODO:**\n",
        "\n",
        "* Choose a textual dataset. Here are some [text datasets](https://www.kaggle.com/datasets?tags=14104-text+data%2C13205-text+mining) from Kaggle \n",
        "\n",
        "* Generate some decent looking results and evaluate your model's performance (say what it did well / not so well)\n",
        "\n",
        "**DONE:**\n",
        "\n"
      ]
    },
    {
      "cell_type": "code",
      "execution_count": 16,
      "metadata": {
        "id": "U1WEdhvwFQeT"
      },
      "outputs": [],
      "source": [
        "# Editing helper functions\n",
        "def char_tensor_df(string):\n",
        "  tensor = torch.zeros(len(string)).long()\n",
        "  for c in range(len(string)):\n",
        "    tensor[c] = all_characters.index(string[c])\n",
        "  return tensor\n",
        "\n",
        "def random_training_set_df(txt, file_len):    \n",
        "  chunk = random_chunk_df(txt, file_len)\n",
        "  inp = char_tensor_df(chunk[:-1])\n",
        "  target = char_tensor(chunk[1:])\n",
        "  return inp, target\n",
        "\n",
        "def random_chunk_df(txt, file_len):\n",
        "  start_index = random.randint(0, file_len - chunk_len)\n",
        "  end_index = start_index + chunk_len + 1\n",
        "  return txt[start_index:end_index]"
      ]
    },
    {
      "cell_type": "code",
      "execution_count": 24,
      "metadata": {
        "id": "5TMU4gMpFEMK"
      },
      "outputs": [],
      "source": [
        "# Importing data and converting it into correct structure\n",
        "import pandas as pd\n",
        "path = '/content/drive/MyDrive/nytimes front page.csv'\n",
        "df_nyt = pd.read_csv(path, lineterminator='\\n', parse_dates=True)\n",
        "\n",
        "tweets_col = list(df_nyt['content'])\n",
        "nyt_file = ' '.join(str(e) for e in tweets_col)\n",
        "nyt_file_len = len(nyt_file)"
      ]
    },
    {
      "cell_type": "code",
      "execution_count": 25,
      "metadata": {
        "id": "2h4c8IodHWL7"
      },
      "outputs": [],
      "source": [
        "import time\n",
        "n_epochs = 5000\n",
        "print_every = 200\n",
        "plot_every = 10\n",
        "hidden_size = 200\n",
        "n_layers = 3\n",
        "lr = 0.001\n",
        " \n",
        "decoder = RNN(n_characters, hidden_size, n_characters, n_layers)\n",
        "decoder = decoder.cuda()\n",
        "\n",
        "decoder_optimizer = torch.optim.Adam(decoder.parameters(), lr=lr)\n",
        "criterion = nn.CrossEntropyLoss()\n",
        " \n",
        "start = time.time()\n",
        "all_losses = []\n",
        "loss_avg = 0"
      ]
    },
    {
      "cell_type": "code",
      "execution_count": 26,
      "metadata": {
        "colab": {
          "base_uri": "https://localhost:8080/"
        },
        "id": "YXbA6Ru9cBm0",
        "outputId": "3044e05e-096f-4fc5-df19-b445436a4371"
      },
      "outputs": [
        {
          "name": "stdout",
          "output_type": "stream",
          "text": [
            "[73.79147529602051 (200 4%) 514.3355]\n",
            "Wh\n",
            "arteg ror ant bur pan to Reserallorer. onle rorect sant, to Rerhe thre maed t creolonil pasetesite  \n",
            "\n",
            "[142.3275294303894 (400 8%) 464.8100]\n",
            "Wh ere the the Utered peevere of candinsting the Widen wan hes an diountend dewele thansing ins and th \n",
            "\n",
            "[211.00077366828918 (600 12%) 393.7355]\n",
            "Wherdes fieds an. Erut, p-onth the startan at binimes bave that the dach the reciises of that tan cout \n",
            "\n",
            "[280.3670358657837 (800 16%) 377.6238]\n",
            "Wh a greas sto be unthoon and in Sestilitian than $0000 offication month or the ijstucts. M. Abroul a  \n",
            "\n",
            "[352.94293427467346 (1000 20%) 359.9921]\n",
            "Wh alrigh a bound in thow wishwonsion, fround to a recaoks on prekill and, Dussed are. Bethe Werthat p \n",
            "\n",
            "[422.0792520046234 (1200 24%) 360.8398]\n",
            "Who servives, whout a jola, are connuritatannar albook doons more cheach in the chin a vicrotion Congr \n",
            "\n",
            "[490.48428201675415 (1400 28%) 418.9056]\n",
            "Whack and the percent or the and Mr. Gasan leaders and the shopersands. Even a down fade because of hi \n",
            "\n",
            "[558.4961347579956 (1600 32%) 273.4537]\n",
            "Whink that in the amered a part. If the One put countrys to Mr. Trump monther where the Mreare citiy w \n",
            "\n",
            "[627.5733306407928 (1800 36%) 312.1809]\n",
            "Whinistrelized to linelies after a police that siz continuity as a partorcial browing monters a poolic \n",
            "\n",
            "[696.0305736064911 (2000 40%) 300.6697]\n",
            "When stol call belut the country for the gom liberal meating the reful the bills to splonist in 2006.  \n",
            "\n",
            "[764.4379382133484 (2200 44%) 304.6913]\n",
            "Wh dove horest shorts soming under offering intelligence cuist. Chinese is said the strugggning the ta \n",
            "\n",
            "[832.6944270133972 (2400 48%) 317.4777]\n",
            "Whrack to the Sander during the Departs ablosed profficles, solder the policy to soritary Dag. Hall to \n",
            "\n",
            "[901.105507850647 (2600 52%) 342.4551]\n",
            "Wh livered that her adviser for a toretors according lett with restrictants and the African for bushin \n",
            "\n",
            "[968.9293203353882 (2800 56%) 340.5174]\n",
            "Wh joversel first enternationally knarges and the Waihing the Sunnanceand. And the mential securement  \n",
            "\n",
            "[1037.1412208080292 (3000 60%) 244.6073]\n",
            "Whilened states. Office as a link, the Convertion lair of Concern has it has since it plannies that a  \n",
            "\n",
            "[1105.6502525806427 (3200 64%) 319.7118]\n",
            "Wh whites to Mr. Ciry that Mrs. Calaturi, say the Now, did tracked as the economics strates, the Mr. C \n",
            "\n",
            "[1175.3745272159576 (3400 68%) 241.1608]\n",
            "When sending to a full. Where mahage that she was a president regulary down in part for the deep in th \n",
            "\n",
            "[1244.235216140747 (3600 72%) 308.5215]\n",
            "Wh alitated question states by the markets to presidents. Solity in Sunney he waiter an adning one of  \n",
            "\n",
            "[1312.6353163719177 (3800 76%) 337.4055]\n",
            "When in the 2013. The told American even already hold five tighted more mijitianistance met had imperi \n",
            "\n",
            "[1380.76908493042 (4000 80%) 271.6304]\n",
            "Whe Presidentszic have to the voto survived by for the long migrants said ther called in the House. Wh \n",
            "\n",
            "[1448.754902124405 (4200 84%) 339.0198]\n",
            "When a family class and commentagers explicitions and boring for quicking a long a Wednesday. His news \n",
            "\n",
            "[1517.0376682281494 (4400 88%) 245.6939]\n",
            "When the comes apply brought prioused later. But the raise was met that Calif current of the issue dis \n",
            "\n",
            "[1586.220275402069 (4600 92%) 318.3299]\n",
            "Wher in unused was a produced a security president in incruptions and rules. In Nernal and of secretar \n",
            "\n",
            "[1654.955159187317 (4800 96%) 284.4552]\n",
            "When Dissol, and Conemy Trump has conferent in the several to extend on it workers security of this th \n",
            "\n",
            "[1723.2507882118225 (5000 100%) 326.9636]\n",
            "When he ways the campaign speak could be properted on changer her about has encounted Prenal base that \n",
            "\n"
          ]
        }
      ],
      "source": [
        "for epoch in range(1, n_epochs + 1):\n",
        "  try:\n",
        "    inp, target = random_training_set_df(nyt_file, nyt_file_len)\n",
        "  except:\n",
        "    loop = True\n",
        "    while loop:\n",
        "      try:\n",
        "        inp, target = random_training_set_df(nyt_file, nyt_file_len)\n",
        "        loop = False\n",
        "      except:\n",
        "        pass\n",
        "  loss_ = train(inp, target)\n",
        "  loss_avg += loss_\n",
        "      \n",
        "  if epoch % print_every == 0:\n",
        "      print('[%s (%d %d%%) %.4f]' % (time.time() - start, epoch, epoch / n_epochs * 100, loss_))\n",
        "      print(evaluate('Wh', 100), '\\n')\n",
        "\n",
        "  if epoch % plot_every == 0:\n",
        "      all_losses.append(loss_avg / plot_every)\n",
        "      loss_avg = 0"
      ]
    },
    {
      "cell_type": "code",
      "execution_count": 34,
      "metadata": {
        "colab": {
          "base_uri": "https://localhost:8080/",
          "height": 313
        },
        "id": "k03m-QbhjHDV",
        "outputId": "908eed64-de82-45aa-b748-fc4095a80e13"
      },
      "outputs": [
        {
          "data": {
            "text/plain": [
              "Text(0, 0.5, 'Loss')"
            ]
          },
          "execution_count": 34,
          "metadata": {},
          "output_type": "execute_result"
        },
        {
          "data": {
            "image/png": "[encoded data removed]",
            "text/plain": [
              "<Figure size 432x288 with 1 Axes>"
            ]
          },
          "metadata": {
            "needs_background": "light"
          },
          "output_type": "display_data"
        }
      ],
      "source": [
        "plt.figure()\n",
        "plt.plot(all_losses)\n",
        "\n",
        "plt.title(\"Part 6 Plot - NY Times Text\")\n",
        "plt.xlabel(\"Epochs\")\n",
        "plt.ylabel(\"Loss\")"
      ]
    },
    {
      "cell_type": "code",
      "execution_count": 29,
      "metadata": {
        "colab": {
          "base_uri": "https://localhost:8080/"
        },
        "id": "rD15Qa2TjUIz",
        "outputId": "c15852fb-74ce-4d3e-8619-4b6e85dc33fe"
      },
      "outputs": [
        {
          "name": "stdout",
          "output_type": "stream",
          "text": [
            "I \n",
            "I seassells and he could be beline court rounds who was sturning shot said. The China, in the Christiah the police around they according to ramping with astory called particular states. The Europe she d \n",
            "\n",
            "G\n",
            "Gero, to even that his admoring the same of the one of a memie to varmethips for knew the network more allies relear even the fataliage. He was the jobs throok called but the issue, when the dusticals  \n",
            "\n",
            "ra\n",
            "rablin case a growth lave after the investigations in 2012, the police sellow consused Mr. Trump and investigation influenced he had also the buses not early conferent cline and a second of the manufere \n",
            "\n",
            "G\n",
            "Grame secretory of finally by largely opening of the denor and she had corned by their personnents. It not of his single denesday. The difted accounts and he coaling a months into Mind Part Berson Pake \n",
            "\n",
            "wh\n",
            "when health more to much off a month sanction of somaliar, where the announce Chinancy in 2018 and Corport Planning at 2086 percents from the state suspect of a raceminection. The same and mentual is wa \n",
            "\n",
            "ca\n",
            "car more in the subjorm doom problem. The Univerted a held because the work in controlled cion when Suprospite on the standary endoptions. His sure and the clear, the deploded went to portermancing once \n",
            "\n",
            "wh\n",
            "where fund from the procose to just of Mr. Martlands and materiale government of the beated connection. There week of a police of the New York. Tow, federal and shock, are was she scients in lausip of t \n",
            "\n",
            "Tr\n",
            "Trump. Mening of sheld for later misforeance, the factoryman leaders, is deal to check from a risil of devices had been transfire of the stymbers and cultually stacks and rival, recent in the resident l \n",
            "\n",
            "G\n",
            "Grand as a seatterances that the Comme, the call not to be group in seat since 75 moneany have gone of unup. Afteen could become to support by the fire in the cost and completed he could be a take on a \n",
            "\n",
            "he\n",
            "he alone of his study. And he had look on a half with their chargement after a fol and oneown can other outservaly children is the own could night. This years that it had is follow, and lruggly ground h \n",
            "\n"
          ]
        }
      ],
      "source": [
        "import random\n",
        "for i in range(10):\n",
        "  start_strings = [\"Tr\", \"wh\", \"he\", \"I \", \"ca\", \"G\", \"lo\", \"ra\"]\n",
        "  start = random.randint(0,len(start_strings)-1)\n",
        "  print(start_strings[start])\n",
        "  print(evaluate(start_strings[start], 200), '\\n')"
      ]
    },
    {
      "cell_type": "markdown",
      "metadata": {
        "id": "7gNjrPepka50"
      },
      "source": [
        "My model peformed fairly well on the NY Times articles dataset. I was really impressed by the validation senstences and the final generation of 10 blocks of text from the previous code block. For the most part, the sentences have a coherent structure and the words are mostly correct. However, this dataset did seem more difficult for the model to generate great text, compared to part 5. One of the reasons for this is likely due to the fact that this file had a length of over 12 million, whereas the data set (file) provided at the beginning of the lab had a few hundred thousand. Due to this big difference in size, this dataset was likely much harder to train on, so I may have gotten better results if I ran more epochs or perhaps created a file that was a smaller subset of the nytimes data set, and then sampled from that subset. "
      ]
    }
  ],
  "metadata": {
    "accelerator": "GPU",
    "colab": {
      "collapsed_sections": [
        "ZEdukyWdzm9k",
        "ty0-tn5EomuM",
        "gJGlM2a-xV99",
        "EN06NUu3YRlz"
      ],
      "name": "lab6.ipynb",
      "provenance": []
    },
    "kernelspec": {
      "display_name": "Python 3",
      "language": "python",
      "name": "python3"
    },
    "language_info": {
      "codemirror_mode": {
        "name": "ipython",
        "version": 3
      },
      "file_extension": ".py",
      "mimetype": "text/x-python",
      "name": "python",
      "nbconvert_exporter": "python",
      "pygments_lexer": "ipython3",
      "version": "3.7.1"
    },
    "pycharm": {
      "stem_cell": {
        "cell_type": "raw",
        "metadata": {
          "collapsed": false
        },
        "source": []
      }
    }
  },
  "nbformat": 4,
  "nbformat_minor": 0
}
