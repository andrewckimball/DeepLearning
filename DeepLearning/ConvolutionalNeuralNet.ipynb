{
  "cells": [
    {
      "cell_type": "markdown",
      "metadata": {
        "id": "view-in-github"
      },
      "source": [
        "# Deep Nueral Network and CNN's"
      ]
    },
    {
      "cell_type": "code",
      "execution_count": null,
      "metadata": {
        "colab": {
          "base_uri": "https://localhost:8080/"
        },
        "id": "WMln2NRiMMsu",
        "outputId": "aa1139b9-eb3d-4ded-8143-a87914552830",
        "pycharm": {
          "name": "#%%\n"
        }
      },
      "outputs": [
        {
          "name": "stdout",
          "output_type": "stream",
          "text": [
            "Requirement already satisfied: torch in /usr/local/lib/python3.7/dist-packages (1.10.0+cu111)\n",
            "Requirement already satisfied: typing-extensions in /usr/local/lib/python3.7/dist-packages (from torch) (3.10.0.2)\n",
            "Requirement already satisfied: torchvision in /usr/local/lib/python3.7/dist-packages (0.11.1+cu111)\n",
            "Requirement already satisfied: pillow!=8.3.0,>=5.3.0 in /usr/local/lib/python3.7/dist-packages (from torchvision) (7.1.2)\n",
            "Requirement already satisfied: torch==1.10.0 in /usr/local/lib/python3.7/dist-packages (from torchvision) (1.10.0+cu111)\n",
            "Requirement already satisfied: numpy in /usr/local/lib/python3.7/dist-packages (from torchvision) (1.19.5)\n",
            "Requirement already satisfied: typing-extensions in /usr/local/lib/python3.7/dist-packages (from torch==1.10.0->torchvision) (3.10.0.2)\n",
            "Requirement already satisfied: tqdm in /usr/local/lib/python3.7/dist-packages (4.62.3)\n"
          ]
        }
      ],
      "source": [
        "!pip3 install torch\n",
        "!pip3 install torchvision\n",
        "!pip3 install tqdm"
      ]
    },
    {
      "cell_type": "markdown",
      "metadata": {
        "id": "BqzKFV88MMsw"
      },
      "source": []
    },
    {
      "cell_type": "code",
      "execution_count": 1,
      "metadata": {
        "collapsed": true,
        "id": "wQOefmcZVgTl"
      },
      "outputs": [],
      "source": [
        "import torch\n",
        "import torch.nn as nn\n",
        "import torch.nn.functional as F\n",
        "import torch.optim as optim\n",
        "from torch.utils.data import Dataset, DataLoader\n",
        "import numpy as np\n",
        "import matplotlib.pyplot as plt\n",
        "from torchvision import transforms, utils, datasets\n",
        "from tqdm import tqdm\n",
        "from torch.nn.parameter import Parameter \n",
        "import pdb\n",
        "\n",
        "assert torch.cuda.is_available(), \"You need to request a GPU from Runtime > Change Runtime\""
      ]
    },
    {
      "cell_type": "code",
      "execution_count": 123,
      "metadata": {
        "collapsed": true,
        "id": "Il_53HLSWPTY"
      },
      "outputs": [],
      "source": [
        "class FashionMNISTProcessedDataset(Dataset):\n",
        "  def __init__ (self, root, train=True):\n",
        "    self.data = datasets.FashionMNIST(root, train=train,\n",
        "                                      transform=transforms.ToTensor(),\n",
        "                                      download=True)\n",
        "  def __getitem__(self, i):\n",
        "    x, y = self.data[i]\n",
        "    return x, y\n",
        "  def __len__(self):\n",
        "    return len(self.data)"
      ]
    },
    {
      "cell_type": "code",
      "execution_count": 178,
      "metadata": {
        "collapsed": true,
        "id": "RkieTbwlYWPS"
      },
      "outputs": [],
      "source": [
        "class CrossEntropyLoss(nn.Module):\n",
        "  def __init__(self, weight=None, size_average=None, ignore_index=-100, reduce=None, reduction='mean'):\n",
        "    self.__dict__.update(locals())\n",
        "    super(CrossEntropyLoss, self).__init__()\n",
        "    \n",
        "  def softmax(x):\n",
        "      exp_x = torch.exp(x)\n",
        "      sum_x = torch.sum(exp_x, dim=1, keepdim=True)\n",
        "      return exp_x/sum_x\n",
        "  \n",
        "  def log_softmax(x):\n",
        "      return torch.log(softmax(x))\n",
        "  \n",
        "  def calc(y_pred, y_true):\n",
        "      num_examples = y_true.shape[0]\n",
        "      batch_size = y_pred.shape[0]\n",
        "      outputs = log_softmax(y_pred)\n",
        "      outputs = outputs[range(batch_size), y_true]\n",
        "      return - torch.sum(outputs)/num_examples\n",
        "\n",
        "\n",
        "  def forward(self, input, target):\n",
        "    return F.cross_entropy(input, target, self.weight, self.size_average, self.ignore_index, self.reduce, self.reduction)\n",
        "  \n",
        "\n",
        "class Conv2d(nn.Module):\n",
        "  def __init__(self, in_channels, out_channels, kernel_size, stride=1, padding=0, dilation=1, groups=1, \n",
        "               bias=True, padding_mode='zeros', device=None, dtype=None, initialization_type='Orthogonal'):\n",
        "    self.__dict__.update(locals()) #short cut to set all parameters equal to self variables\n",
        "    super(Conv2d, self).__init__()\n",
        "\n",
        "    import numpy as np\n",
        "\n",
        "    # (out, in, k, k)\n",
        "    self.weight = Parameter(torch.Tensor(self.out_channels, \n",
        "                                         self.in_channels,\n",
        "                                         self.kernel_size[0],\n",
        "                                         self.kernel_size[1])) # a parameter is a pytorch object \n",
        "    self.bias = Parameter(torch.Tensor(self.out_channels))\n",
        "\n",
        "    # initialize weights using different strategies\n",
        "    if self.initialization_type == 'Uniform':\n",
        "      self.weight.data.uniform_(-1,1)\n",
        "      self.bias.data.uniform_(0,0)\n",
        "    \n",
        "    elif self.initialization_type == 'Xe':      \n",
        "      numpy_xe_w = np.random.randn(out_channels, in_channels, kernel_size[0], kernel_size[1])/np.sqrt(in_channels/2) * 0.01\n",
        "      self.weight.data = torch.from_numpy(numpy_xe_w.astype(np.float32))\n",
        "      self.bias.data.uniform_(0,0)\n",
        "\n",
        "\n",
        "    elif self.initialization_type == 'Orthogonal':\n",
        "      X_w = np.random.random((self.out_channels, self.in_channels * kernel_size[0] * kernel_size[1]))\n",
        "      U, _, Vt = np.linalg.svd(X_w, full_matrices=False)\n",
        "      W = Vt.reshape((self.out_channels, self.in_channels, kernel_size[0], kernel_size[1]))\n",
        "      self.weight.data = torch.from_numpy(W.astype(np.float32))\n",
        "      self.bias.data.uniform_(0,0)\n",
        "\n",
        "\n",
        "  def forward(self, x):\n",
        "    return F.conv2d(x, self.weight, self.bias, self.stride, self.padding, self.dilation, self.groups)\n",
        "\n"
      ]
    },
    {
      "cell_type": "code",
      "execution_count": 231,
      "metadata": {
        "collapsed": true,
        "id": "d4C-_v9Hm7YE"
      },
      "outputs": [],
      "source": [
        "class ConvNetwork(nn.Module):\n",
        "  def __init__(self, dataset):\n",
        "    super(ConvNetwork, self).__init__()\n",
        "    x, y = dataset[0]\n",
        "    c, h, w = x.size()\n",
        "    output = 10\n",
        "  \n",
        "    self.net = nn.Sequential(\n",
        "        Conv2d(c, 8, (3,3), padding=(1,1)),\n",
        "        nn.ReLU(),\n",
        "        Conv2d(8, 60, (3,3), padding=(1,1)),\n",
        "        nn.ReLU(),\n",
        "        Conv2d(60, 85, (3,3), padding=(1,1)),\n",
        "        nn.ReLU(),\n",
        "        Conv2d(85, 100, (3,3), padding=(1,1)),\n",
        "        nn.ReLU(),\n",
        "        Conv2d(100, output, (28,28), padding=(0,0))\n",
        "    )\n",
        "\n",
        "  def forward(self, x):\n",
        "    return self.net(x).squeeze(2).squeeze(2) # goes from (n, 10, 1, 1) to (n, 10)\n"
      ]
    },
    {
      "cell_type": "code",
      "execution_count": 232,
      "metadata": {
        "id": "tCnw4fJfJIP2"
      },
      "outputs": [],
      "source": [
        "# Initialize Datasets\n",
        "train_dataset = FashionMNISTProcessedDataset('/tmp/fashionmnist', train=True)\n",
        "val_dataset = FashionMNISTProcessedDataset('/tmp/fashionmnist', train=False)\n",
        "\n",
        "# Initialize DataLoaders\n",
        "train_loader = DataLoader(train_dataset, batch_size=42, pin_memory=True)\n",
        "validation_loader = DataLoader(val_dataset, batch_size=42, pin_memory=True)\n",
        "\n",
        "# Initialize Model\n",
        "model = ConvNetwork(train_dataset) # custom class\n",
        "model = model.cuda()\n",
        "\n",
        "# Initialize Objective and Optimizer and other parameters\n",
        "optimizer = optim.SGD(model.parameters(), lr=1e-4)\n",
        "objective = CrossEntropyLoss() # custom class"
      ]
    },
    {
      "cell_type": "code",
      "execution_count": 228,
      "metadata": {
        "colab": {
          "base_uri": "https://localhost:8080/"
        },
        "id": "fR2VqSEnJL2Q",
        "outputId": "879c629a-e00b-43f5-81c9-83e49b421053"
      },
      "outputs": [
        {
          "name": "stderr",
          "output_type": "stream",
          "text": []
        }
      ],
      "source": [
        "# Run your training and validation loop and collect stats\n",
        "losses = []\n",
        "validations = []\n",
        "accuracy_train = []\n",
        "accuracy_test_val = []\n",
        "num_epochs = 2\n",
        "\n",
        "for epoch in range(num_epochs):\n",
        "  loop = tqdm(total=len(train_loader) * num_epochs, position=0, leave=False)\n",
        "\n",
        "  for batch, (x, y_truth) in enumerate(train_loader):\n",
        "    x, y_truth = x.cuda(non_blocking=True), y_truth.cuda(non_blocking=True) # puts it on GPU\n",
        "    \n",
        "    optimizer.zero_grad()\n",
        "    y_hat = model(x) # model is a class, but we are running it as though it were a function\n",
        "\n",
        "    loss = objective(y_hat, y_truth)\n",
        "    loss.backward()\n",
        "\n",
        "    losses.append(loss.item())\n",
        "\n",
        "    accuracy_train_batch = (y_hat.argmax(1) == y_truth).float().mean().item()\n",
        "    accuracy_train.append(accuracy_train_batch)\n",
        "\n",
        "    loop.set_description('epoch:{} loss:{:.4f} accuracy:{:.4f}'.format(epoch, loss.item(), accuracy_train_batch))\n",
        "    loop.update(1)\n",
        "\n",
        "    optimizer.step()\n",
        "\n",
        "    if batch % 100 == 0:\n",
        "      val = np.mean([objective(model(x.cuda()), y.cuda()).item() \n",
        "                      for x, y in validation_loader])\n",
        "      validations.append((len(losses), val))\n",
        "\n",
        "      acc_val = []\n",
        "      for x, y in validation_loader:\n",
        "        y_hat_val = model(x.cuda(non_blocking=True))\n",
        "        y_truth_val = y.cuda(non_blocking=True)\n",
        "        acc_val.append((y_hat_val.argmax(1) == y_truth_val).float().mean().item())\n",
        "      acc_val = np.mean(acc_val)\n",
        "      accuracy_test_val.append((len(losses), acc_val))\n",
        "    \n",
        "  loop.close()"
      ]
    },
    {
      "cell_type": "markdown",
      "metadata": {
        "id": "ronkEckHiDaU"
      },
      "source": [
        "### Deep CNN w/ > 1 million parameters\n"
      ]
    },
    {
      "cell_type": "code",
      "execution_count": 213,
      "metadata": {
        "colab": {
          "base_uri": "https://localhost:8080/",
          "height": 591
        },
        "collapsed": true,
        "id": "PaWCKjxvyRSf",
        "outputId": "1950ba5b-4e30-4ab1-9e1f-40e7694a6d38",
        "pycharm": {
          "is_executing": false
        }
      },
      "outputs": [
        {
          "data": {
            "image/png": "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",
            "text/plain": [
              "<Figure size 432x288 with 1 Axes>"
            ]
          },
          "metadata": {
            "needs_background": "light"
          },
          "output_type": "display_data"
        },
        {
          "name": "stdout",
          "output_type": "stream",
          "text": [
            "\n"
          ]
        },
        {
          "data": {
            "image/png": "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",
            "text/plain": [
              "<Figure size 432x288 with 1 Axes>"
            ]
          },
          "metadata": {
            "needs_background": "light"
          },
          "output_type": "display_data"
        }
      ],
      "source": [
        "# Plot accuracy\n",
        "\n",
        "# *** Best accuracy - orthogonal initialization, and number of parameters listed below ***\n",
        "\n",
        "# Accurcay\n",
        "a, b = zip(*accuracy_test_val)\n",
        "plt.plot(accuracy_train, label='train_acc')\n",
        "plt.plot(a, b, label='val_acc')\n",
        "plt.xlabel(\"Batches\")\n",
        "plt.ylabel(\"Accuracy\")\n",
        "plt.title(\"Accuracy Over Time\")\n",
        "plt.legend()\n",
        "plt.show()\n",
        "print()\n",
        "\n",
        "# Loss\n",
        "a, b = zip(*validations)\n",
        "plt.plot(losses, label='train_loss')\n",
        "plt.plot(a, b, label='val_loss')\n",
        "plt.xlabel(\"Batches\")\n",
        "plt.ylabel(\"Loss\")\n",
        "plt.title(\"Loss Over Time\")\n",
        "plt.legend()\n",
        "plt.show()\n"
      ]
    },
    {
      "cell_type": "code",
      "execution_count": 225,
      "metadata": {
        "colab": {
          "base_uri": "https://localhost:8080/"
        },
        "collapsed": true,
        "id": "oijCR-JnyS6V",
        "outputId": "e012b14d-1739-4453-af7f-b6a31588901d",
        "pycharm": {
          "is_executing": false
        }
      },
      "outputs": [
        {
          "name": "stdout",
          "output_type": "stream",
          "text": [
            "1001155\n"
          ]
        }
      ],
      "source": [
        "# Compute and print the number of parameters in the model\n",
        "total = sum([np.prod(p.size()) for p in model.parameters()])\n",
        "print(total)"
      ]
    },
    
  "metadata": {
    "accelerator": "GPU",
    "colab": {
      "collapsed_sections": [],
      "name": "lab3.ipynb",
      "provenance": []
    },
    "kernelspec": {
      "display_name": "Python 3",
      "language": "python",
      "name": "python3"
    },
    "language_info": {
      "codemirror_mode": {
        "name": "ipython",
        "version": 3
      },
      "file_extension": ".py",
      "mimetype": "text/x-python",
      "name": "python",
      "nbconvert_exporter": "python",
      "pygments_lexer": "ipython3",
      "version": "3.7.1"
    },
    "pycharm": {
      "stem_cell": {
        "cell_type": "raw",
        "metadata": {
          "collapsed": false
        },
        "source": []
      }
    }
  },
  "nbformat": 4,
  "nbformat_minor": 0
}
